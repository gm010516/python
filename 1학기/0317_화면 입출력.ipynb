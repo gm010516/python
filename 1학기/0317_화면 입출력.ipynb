{
 "cells": [
  {
   "cell_type": "code",
   "execution_count": 1,
   "id": "1f49f092",
   "metadata": {},
   "outputs": [
    {
     "name": "stdout",
     "output_type": "stream",
     "text": [
      "enter your name:\n",
      "양해원\n",
      "Hi 양해원 how are you today?\n",
      "Hi양해원how are you today?\n",
      "Hi 양해원 how are you today?\n",
      "abcdef\n",
      "abc알파벳def\n"
     ]
    }
   ],
   "source": [
    "print(\"enter your name:\")\n",
    "somebody=input() ##somebody=input(\"enter your name:\")\n",
    "print(\"Hi\",somebody,\"how are you today?\") ##,는 한 칸 띄어져서 나타남\n",
    "print(\"Hi\"+somebody+\"how are you today?\") ##+는 한 칸 띄워져서 나타나지 않음\n",
    "print(\"Hi %s how are you today?\" %(somebody))##표준 출력 함수를 사용하여 나타내기\n",
    "\n",
    "print(\"abc\",end=\"\")##end=\"~\":끝문자:마지막에 \"~\"을 집어넣겠다.\n",
    "print(\"def\")\n",
    "print(\"abc\",\"def\",sep=\"알파벳\")##sep=\"~\":구분자:\"~\"을 문자 사이에 집어넣겠다."
   ]
  },
  {
   "cell_type": "code",
   "execution_count": 3,
   "id": "05605b83",
   "metadata": {},
   "outputs": [
    {
     "name": "stdout",
     "output_type": "stream",
     "text": [
      "A정수 값 입력:10\n",
      "B정수 값 입력:20\n",
      "A입력값:10+B입력값:20 합계 입력:\n",
      "None30\n",
      "10 + 20 = 30\n"
     ]
    }
   ],
   "source": [
    "a=int(input(\"A정수 값 입력:\"))\n",
    "b=int(input(\"B정수 값 입력:\"))\n",
    "sum1=input(print(\"A입력값:\"+str(a)+\"+B입력값:\"+str(b)+\" 합계 입력:\"))\n",
    "print(a,\"+\",b,\"=\",sum1)"
   ]
  },
  {
   "cell_type": "code",
   "execution_count": 4,
   "id": "5d54e683",
   "metadata": {},
   "outputs": [
    {
     "name": "stdout",
     "output_type": "stream",
     "text": [
      "45 67\n",
      "45==67\n",
      "45 67\n",
      "45 67==4567\n"
     ]
    }
   ],
   "source": [
    "a=45\n",
    "b=67\n",
    "print(a,b)\n",
    "print(a,b,sep=\"==\")\n",
    "print(a,b)\n",
    " ##print(a,b,sep=\"\")/print(\"%d%d\"%(a,b))\n",
    "print(a,b,end=\"==\")\n",
    "print(str(a)+str(b))"
   ]
  },
  {
   "cell_type": "code",
   "execution_count": 25,
   "id": "7f8c920c",
   "metadata": {},
   "outputs": [
    {
     "name": "stdout",
     "output_type": "stream",
     "text": [
      "400.500000\n",
      "100\n",
      "200\n",
      "결과는 100 200\n"
     ]
    }
   ],
   "source": [
    "a=100\n",
    "b=200\n",
    "c=\"200\"\n",
    "d=400.5\n",
    "##print(\"%d\" %(a,b))\n",
    "##print(\"결과는 %d %d\" %(a))\n",
    "print(\"%f\" %(d))##print(\"%d\" %(d)) 정수형으로 하면 소수점 뒷자리가 버려짐\n",
    "print(\"%d\" %(a))\n",
    "print(\"%s\" %(c))##print(\"%d\" %(c))오류 메세지:format a number is required, not str\n",
    "print(\"결과는 %d %d\" %(a,b))"
   ]
  },
  {
   "cell_type": "code",
   "execution_count": 34,
   "id": "e44c03b2",
   "metadata": {},
   "outputs": [
    {
     "name": "stdout",
     "output_type": "stream",
     "text": [
      "a=100,c=300,d=400.500000\n",
      "a=300,b=200,c=100,d=400.500000\n"
     ]
    }
   ],
   "source": [
    "#format()함수를 이용한 서식 지정\n",
    "a=100\n",
    "b=\"200\"\n",
    "c=300\n",
    "d=400.5\n",
    "\n",
    "print(\"a={0:d},c={1:d},d={2:f}\".format(a,c,d))\n",
    "print(\"a={1:d},b={3:s},c={0:d},d={2:f}\".format(a,c,d,b))##값의 변화가 아니라 출력의 변화(%d와의 차이점)"
   ]
  },
  {
   "cell_type": "code",
   "execution_count": 1,
   "id": "e80e6048",
   "metadata": {},
   "outputs": [
    {
     "name": "stdout",
     "output_type": "stream",
     "text": [
      "1234\n",
      " 1234\n",
      "01234\n",
      "\n",
      "1234.560000\n",
      "1234.56\n",
      "   1234.6\n",
      "1234.560\n",
      "\n",
      "smart IT\n",
      "    smart IT\n"
     ]
    }
   ],
   "source": [
    "print(\"%d\" %(1234))\n",
    "print(\"%5d\" %(1234))\n",
    "print(\"%05d\" %(1234))##무효의 숫자를 입력해줌\n",
    "\n",
    "print(\"\")\n",
    "print(\"%f\" %(1234.56))\n",
    "print(\"%0.2f\" %(1234.56))\n",
    "print(\"%9.1f\" %(1234.56))\n",
    "print(\"%8.3f\" %(1234.56))\n",
    "print(\"\")\n",
    "print(\"%s\" %(\"smart IT\"))\n",
    "print(\"%12s\" %(\"smart IT\"))"
   ]
  },
  {
   "cell_type": "code",
   "execution_count": 28,
   "id": "6c958af5",
   "metadata": {},
   "outputs": [
    {
     "name": "stdout",
     "output_type": "stream",
     "text": [
      "    *\n",
      "   ***\n",
      "  *****\n",
      " *******\n",
      "*********\n",
      " *******\n",
      "  *****\n",
      "   ***\n",
      "    *\n",
      "    *\n",
      "   ***\n",
      "  *****\n",
      " *******\n",
      "*********\n",
      " *******\n",
      "  *****\n",
      "   ***\n",
      "    *\n"
     ]
    }
   ],
   "source": [
    "\n",
    "print(\"%5s\" %(\"*\"))\n",
    "print(\"%6s\" %(\"***\"))\n",
    "print(\"%7s\" %(\"*****\"))\n",
    "print(\"%8s\" %(\"*******\"))\n",
    "print(\"%s\" %(\"*********\"))\n",
    "print(\"%8s\" %(\"*******\"))\n",
    "print(\"%7s\" %(\"*****\"))\n",
    "print(\"%6s\" %(\"***\"))\n",
    "print(\"%5s\" %(\"*\"))\n",
    "\n",
    "print(\" \"*4,\"*\"*1,sep=\"\")\n",
    "print(\" \"*3,\"*\"*3,sep=\"\")\n",
    "print(\" \"*2,\"*\"*5,sep=\"\")\n",
    "print(\" \"*1,\"*\"*7,sep=\"\")\n",
    "print(\" \"*0,\"*\"*9,sep=\"\")\n",
    "print(\" \"*1,\"*\"*7,sep=\"\")\n",
    "print(\" \"*2,\"*\"*5,sep=\"\")\n",
    "print(\" \"*3,\"*\"*3,sep=\"\")\n",
    "print(\" \"*4,\"*\"*1,sep=\"\")\n"
   ]
  },
  {
   "cell_type": "code",
   "execution_count": null,
   "id": "f1abdb0c",
   "metadata": {},
   "outputs": [],
   "source": []
  }
 ],
 "metadata": {
  "kernelspec": {
   "display_name": "Python 3 (ipykernel)",
   "language": "python",
   "name": "python3"
  },
  "language_info": {
   "codemirror_mode": {
    "name": "ipython",
    "version": 3
   },
   "file_extension": ".py",
   "mimetype": "text/x-python",
   "name": "python",
   "nbconvert_exporter": "python",
   "pygments_lexer": "ipython3",
   "version": "3.9.7"
  }
 },
 "nbformat": 4,
 "nbformat_minor": 5
}
