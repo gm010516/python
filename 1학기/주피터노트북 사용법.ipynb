{
 "cells": [
  {
   "cell_type": "markdown",
   "id": "5cfbfaba",
   "metadata": {},
   "source": [
    "# SmartIT Jupiter Notebook 사용법\n",
    "## 1. What is Jupyter Notebook?\n",
    "\n"
   ]
  },
  {
   "cell_type": "markdown",
   "id": "efafa9ac",
   "metadata": {},
   "source": [
    "## 단축키 정의\n",
    "### 1.1 Ctrl+Shift+- : 셀이 분류 됨\n",
    "### 1.2 Ctrl+Enter : 현재셀의 코드만 실행\n",
    "### 1.3 Alt+Enter : 현재셀의 코드가 실행되고, 행이 추가됨\n",
    "### 1.4 ESC : 편집 모드 해제\n",
    "### 1.5 TAB : 자동 완성, 모듈명 다음에 점(.)을 찍고 Tab 키를 누르면 클래수 또는 변수가 보임\n",
    "### 1.6 Shift+Tab : 변수 또는 함수의 내부 특성 조회\n",
    "### 1.7 ? : 함수 사용법 설명\n",
    "### 1.8 ?? : 함수의 사용법에 대한 소스 출력\n",
    "### 1.9 %lsmagic : 내부에서 사용되는 명령어가 조회된다."
   ]
  },
  {
   "cell_type": "code",
   "execution_count": 2,
   "id": "fa039ef4",
   "metadata": {},
   "outputs": [],
   "source": [
    "import os"
   ]
  },
  {
   "cell_type": "code",
   "execution_count": 3,
   "id": "d52f9692",
   "metadata": {},
   "outputs": [
    {
     "data": {
      "text/plain": [
       "<module 'ntpath' from 'C:\\\\ProgramData\\\\Anaconda3\\\\lib\\\\ntpath.py'>"
      ]
     },
     "execution_count": 3,
     "metadata": {},
     "output_type": "execute_result"
    }
   ],
   "source": [
    "os.path"
   ]
  },
  {
   "cell_type": "markdown",
   "id": "70014b2c",
   "metadata": {},
   "source": [
    "웹개발 실무 **파이썬** 프로그램"
   ]
  },
  {
   "cell_type": "code",
   "execution_count": 6,
   "id": "7109a3b1",
   "metadata": {},
   "outputs": [],
   "source": [
    "msg = \"SmartIT \"\n",
    "\n",
    "def read_work():\n",
    "    print (msg)\n",
    "    print (\"DataScience\")\n",
    "\n"
   ]
  },
  {
   "cell_type": "code",
   "execution_count": 8,
   "id": "adbcd92f",
   "metadata": {},
   "outputs": [],
   "source": [
    "read_work??"
   ]
  }
 ],
 "metadata": {
  "kernelspec": {
   "display_name": "Python 3 (ipykernel)",
   "language": "python",
   "name": "python3"
  },
  "language_info": {
   "codemirror_mode": {
    "name": "ipython",
    "version": 3
   },
   "file_extension": ".py",
   "mimetype": "text/x-python",
   "name": "python",
   "nbconvert_exporter": "python",
   "pygments_lexer": "ipython3",
   "version": "3.9.7"
  }
 },
 "nbformat": 4,
 "nbformat_minor": 5
}
