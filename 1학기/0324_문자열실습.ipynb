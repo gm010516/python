{
 "cells": [
  {
   "cell_type": "markdown",
   "metadata": {},
   "source": [
    "## 1. 문자열"
   ]
  },
  {
   "cell_type": "code",
   "execution_count": null,
   "metadata": {},
   "outputs": [],
   "source": [
    "# 문자열은 큰따옴표나 작은따움표로 표현이 가능하다\n",
    "\"배화여자대학교 SmartIT학과 3학년 웹개발 실무!!\""
   ]
  },
  {
   "cell_type": "code",
   "execution_count": null,
   "metadata": {},
   "outputs": [],
   "source": [
    "# 문자열은 큰따옴표나 작은따움표로 표현이 가능하다\n",
    "'배화여자대학교 SmartIT학과 3학년 웹개발 실무!!'"
   ]
  },
  {
   "cell_type": "code",
   "execution_count": 4,
   "metadata": {},
   "outputs": [
    {
     "data": {
      "text/plain": [
       "'배화여자대학교 \"SmartIT학과\" 3학년 웹개발 실무!!'"
      ]
     },
     "execution_count": 4,
     "metadata": {},
     "output_type": "execute_result"
    }
   ],
   "source": [
    "# 큰따옴표안에 큰따옴표를 사용하면 오류 발생->작은 따옴표안에 큰따옴표는 가능,큰따옴표안에 작은따옴표 가능\n",
    "\n",
    "'배화여자대학교 \"SmartIT학과\" 3학년 웹개발 실무!!'"
   ]
  },
  {
   "cell_type": "code",
   "execution_count": 5,
   "metadata": {},
   "outputs": [
    {
     "data": {
      "text/plain": [
       "'배화여자대학교 \"SmartIT학과\" 3학년 웹개발 실무!!'"
      ]
     },
     "execution_count": 5,
     "metadata": {},
     "output_type": "execute_result"
    }
   ],
   "source": [
    "# 작은(큰) 따옴표를 구분할때 \\(역슬래쉬)를 사용하여 예외처리를 할 수 있음\n",
    "\"배화여자대학교 \\\"SmartIT학과\\\" 3학년 웹개발 실무!!\""
   ]
  },
  {
   "cell_type": "code",
   "execution_count": 9,
   "metadata": {},
   "outputs": [
    {
     "data": {
      "text/plain": [
       "'3410'"
      ]
     },
     "execution_count": 9,
     "metadata": {},
     "output_type": "execute_result"
    }
   ],
   "source": [
    "# 문자는 숫자와 더할 수 없다\n",
    "int(\"34\")+10\n",
    "\"34\"+str(10)"
   ]
  },
  {
   "cell_type": "code",
   "execution_count": 12,
   "metadata": {},
   "outputs": [
    {
     "data": {
      "text/plain": [
       "int"
      ]
     },
     "execution_count": 12,
     "metadata": {},
     "output_type": "execute_result"
    }
   ],
   "source": [
    "# 숫자에 따옴표가 있으면 문자이다.\n",
    "type(\"34\")\n"
   ]
  },
  {
   "cell_type": "markdown",
   "metadata": {},
   "source": [
    "###숫자에 따옴표가 없으면 숫자이다."
   ]
  },
  {
   "cell_type": "code",
   "execution_count": 14,
   "metadata": {},
   "outputs": [
    {
     "name": "stdout",
     "output_type": "stream",
     "text": [
      "1234\n",
      "12    34\n"
     ]
    }
   ],
   "source": [
    "# + 기호를 사용하여 문자열 연결을 할 수 있지만\n",
    "#f-string를 이용할 수 도 있다(f-string는 3.6 버전 이후부터 사용 가능)\n",
    "\n",
    "a = 12\n",
    "b = \"34\"\n",
    "print(f\"{a}{b}\")\n",
    "print(f\"{a}    {b}\")##사이 공백만큼 떨어져서 나타남"
   ]
  },
  {
   "cell_type": "code",
   "execution_count": 5,
   "metadata": {},
   "outputs": [
    {
     "name": "stdout",
     "output_type": "stream",
     "text": [
      "1234\n"
     ]
    }
   ],
   "source": [
    "# 문자열 연결하는 방법(형 변환하여 처리 가능)\n"
   ]
  },
  {
   "cell_type": "markdown",
   "metadata": {},
   "source": [
    "## 2. 문자열의 타입"
   ]
  },
  {
   "cell_type": "code",
   "execution_count": 3,
   "metadata": {},
   "outputs": [
    {
     "data": {
      "text/plain": [
       "str"
      ]
     },
     "execution_count": 3,
     "metadata": {},
     "output_type": "execute_result"
    }
   ],
   "source": [
    "#type명령어 사용 \"1\" type확인\n"
   ]
  },
  {
   "cell_type": "code",
   "execution_count": 16,
   "metadata": {},
   "outputs": [
    {
     "name": "stdout",
     "output_type": "stream",
     "text": [
      "\n",
      "배화여자대학교\n",
      "SmartIT학과\n",
      "3학년\n",
      "웹개발 실무\n",
      "\n"
     ]
    }
   ],
   "source": [
    "# 줄바꿈 문자열 표현 \"\"\" ~~~~ \"\"\"\n",
    "a=\"\"\"\n",
    "배화여자대학교\n",
    "SmartIT학과\n",
    "3학년\n",
    "웹개발 실무\n",
    "\"\"\"\n",
    "print(a)"
   ]
  },
  {
   "cell_type": "markdown",
   "metadata": {},
   "source": [
    "## 3. 문자열 다루기\n",
    "\n",
    "* **인덱싱** \n",
    "    * 인덱스 순서대로 값을 가져 온다\n",
    "    * 인덱스 순서는 0부터 시작한다\n",
    "    * 마지막 인덱스를 가져오려면 -1 을 사용한다."
   ]
  },
  {
   "cell_type": "code",
   "execution_count": 3,
   "metadata": {},
   "outputs": [],
   "source": [
    "address = \" 서울시 종로구 필운대로 1길, Pirundae-ro 1-gil, Jongno-gu, Seoul, Republic of Korea\"\n"
   ]
  },
  {
   "cell_type": "code",
   "execution_count": 19,
   "metadata": {},
   "outputs": [
    {
     "data": {
      "text/plain": [
       "' 서울시 종로구 필운대로 1길, Pirundae-ro 1-gil, Jongno-gu, Seoul, Republic of Korea '"
      ]
     },
     "execution_count": 19,
     "metadata": {},
     "output_type": "execute_result"
    }
   ],
   "source": [
    "# 전체 값을 가져온다.\n",
    "address"
   ]
  },
  {
   "cell_type": "code",
   "execution_count": 22,
   "metadata": {},
   "outputs": [
    {
     "name": "stdout",
     "output_type": "stream",
     "text": [
      " \n"
     ]
    }
   ],
   "source": [
    "# 가장 첫 인뎃스 값을 가지고 온다\n",
    "print(address[0])"
   ]
  },
  {
   "cell_type": "code",
   "execution_count": 23,
   "metadata": {},
   "outputs": [
    {
     "name": "stdout",
     "output_type": "stream",
     "text": [
      "서\n"
     ]
    }
   ],
   "source": [
    "# 1번 인덱스 값을 가지고 온다\n",
    "print(address[1])"
   ]
  },
  {
   "cell_type": "code",
   "execution_count": 28,
   "metadata": {},
   "outputs": [
    {
     "name": "stdout",
     "output_type": "stream",
     "text": [
      " \n"
     ]
    }
   ],
   "source": [
    "# 마지막 인덱스 값을 가지고 온다\n",
    "print(address[-1])"
   ]
  },
  {
   "cell_type": "code",
   "execution_count": 29,
   "metadata": {},
   "outputs": [
    {
     "name": "stdout",
     "output_type": "stream",
     "text": [
      "a\n"
     ]
    }
   ],
   "source": [
    "# 마지막에서 두 번째 인덱스 값을 가지고 온다\n",
    "print(address[-2])"
   ]
  },
  {
   "cell_type": "markdown",
   "metadata": {},
   "source": [
    "* **슬라이싱**\n",
    "    * [strart:end:step] 을 지정하여 사용\n",
    "    * step은 생략이 가능하다\n",
    "    * end 값은 포함이 되지 않는다 "
   ]
  },
  {
   "cell_type": "code",
   "execution_count": 13,
   "metadata": {},
   "outputs": [
    {
     "data": {
      "text/plain": [
       "' 서울시 종로구 필운대로 1길, Pirundae-ro 1-gil, Jongno-gu, Seoul, Republic of Korea '"
      ]
     },
     "execution_count": 13,
     "metadata": {},
     "output_type": "execute_result"
    }
   ],
   "source": [
    "# 전체 값 가져오기\n"
   ]
  },
  {
   "cell_type": "code",
   "execution_count": 30,
   "metadata": {},
   "outputs": [
    {
     "name": "stdout",
     "output_type": "stream",
     "text": [
      "서울시\n"
     ]
    }
   ],
   "source": [
    "# 서울시만 슬라이싱으로 가져온다\n",
    "print(address[1:4])"
   ]
  },
  {
   "cell_type": "code",
   "execution_count": 33,
   "metadata": {},
   "outputs": [
    {
     "name": "stdout",
     "output_type": "stream",
     "text": [
      "종로구\n"
     ]
    }
   ],
   "source": [
    "# 종로구 만 슬라이싱으로 가져온다\n",
    "print(address[5:8])"
   ]
  },
  {
   "cell_type": "code",
   "execution_count": 34,
   "metadata": {},
   "outputs": [
    {
     "name": "stdout",
     "output_type": "stream",
     "text": [
      " 시로필로길Puar1i nouSu pl  r \n"
     ]
    }
   ],
   "source": [
    "# step을 사용하여 특정 간격으로 건너띄어서 문자를 가져온다.\n",
    "print(address[::3])"
   ]
  },
  {
   "cell_type": "code",
   "execution_count": 35,
   "metadata": {},
   "outputs": [
    {
     "name": "stdout",
     "output_type": "stream",
     "text": [
      " aeroK fo cilbupeR ,luoeS ,ug-ongnoJ ,lig-1 or-eadnuriP ,길1 로대운필 구로종 시울서 \n"
     ]
    }
   ],
   "source": [
    "# 문자를 역순으로 출력\n",
    "print(address[::-1])"
   ]
  },
  {
   "cell_type": "markdown",
   "metadata": {},
   "source": [
    "## 4. 문자열 함수\n",
    "\n",
    "* **소문자로 변환 : lower()**\n",
    "* **대문자로 변환 : upper()**\n",
    "* **공백제거 : lstrip(), rstrip(), strip()**\n",
    "* **문자열 길이 : len()**\n",
    "* **문자열 나누기 : split()**\n",
    "* **문자열 합하기 : join()**\n",
    "* **문자열 바꾸기 : replace()**"
   ]
  },
  {
   "cell_type": "code",
   "execution_count": null,
   "metadata": {},
   "outputs": [],
   "source": [
    "# \"a\" == \"A\" 결과값은?\n"
   ]
  },
  {
   "cell_type": "code",
   "execution_count": 1,
   "metadata": {},
   "outputs": [
    {
     "data": {
      "text/plain": [
       "'a'"
      ]
     },
     "execution_count": 1,
     "metadata": {},
     "output_type": "execute_result"
    }
   ],
   "source": [
    "# \"A\".lower()\n",
    "\"A\".lower()"
   ]
  },
  {
   "cell_type": "code",
   "execution_count": 4,
   "metadata": {},
   "outputs": [
    {
     "name": "stdout",
     "output_type": "stream",
     "text": [
      "Variable   Type    Data/Info\n",
      "----------------------------\n",
      "address    str      서울시 종로구 필운대로 1길, Pirunda<...> Seoul, Republic of Korea\n"
     ]
    }
   ],
   "source": [
    "# 전체 값 가져오기\n",
    "%whos"
   ]
  },
  {
   "cell_type": "code",
   "execution_count": 5,
   "metadata": {},
   "outputs": [
    {
     "data": {
      "text/plain": [
       "' 서울시 종로구 필운대로 1길, pirundae-ro 1-gil, jongno-gu, seoul, republic of korea'"
      ]
     },
     "execution_count": 5,
     "metadata": {},
     "output_type": "execute_result"
    }
   ],
   "source": [
    "# 소문자로 변환\n",
    "address.lower()"
   ]
  },
  {
   "cell_type": "code",
   "execution_count": 6,
   "metadata": {},
   "outputs": [
    {
     "data": {
      "text/plain": [
       "' 서울시 종로구 필운대로 1길, PIRUNDAE-RO 1-GIL, JONGNO-GU, SEOUL, REPUBLIC OF KOREA'"
      ]
     },
     "execution_count": 6,
     "metadata": {},
     "output_type": "execute_result"
    }
   ],
   "source": [
    "# 대문자로 변환\n",
    "address.upper()"
   ]
  },
  {
   "cell_type": "code",
   "execution_count": 27,
   "metadata": {},
   "outputs": [
    {
     "data": {
      "text/plain": [
       "'서울시 종로구 필운대로 1길, Pirundae-ro 1-gil, Jongno-gu, Seoul, Republic of Korea'"
      ]
     },
     "execution_count": 27,
     "metadata": {},
     "output_type": "execute_result"
    }
   ],
   "source": [
    "# 좌측 공백 제거, 우측 공백 제거, 앞뒤 공백 제거\n",
    "address.lstrip()\n",
    "address.rstrip()\n",
    "address.strip()"
   ]
  },
  {
   "cell_type": "code",
   "execution_count": 11,
   "metadata": {},
   "outputs": [
    {
     "data": {
      "text/plain": [
       "72"
      ]
     },
     "execution_count": 11,
     "metadata": {},
     "output_type": "execute_result"
    }
   ],
   "source": [
    "# 문자열 길이\n",
    "len(address)"
   ]
  },
  {
   "cell_type": "code",
   "execution_count": 12,
   "metadata": {},
   "outputs": [
    {
     "data": {
      "text/plain": [
       "71"
      ]
     },
     "execution_count": 12,
     "metadata": {},
     "output_type": "execute_result"
    }
   ],
   "source": [
    "# 앞뒤 공백 제거 후 문자열 길이\n",
    "len(address.strip())"
   ]
  },
  {
   "cell_type": "code",
   "execution_count": 14,
   "metadata": {},
   "outputs": [
    {
     "data": {
      "text/plain": [
       "['서울시',\n",
       " '종로구',\n",
       " '필운대로',\n",
       " '1길,',\n",
       " 'Pirundae-ro',\n",
       " '1-gil,',\n",
       " 'Jongno-gu,',\n",
       " 'Seoul,',\n",
       " 'Republic',\n",
       " 'of',\n",
       " 'Korea']"
      ]
     },
     "execution_count": 14,
     "metadata": {},
     "output_type": "execute_result"
    }
   ],
   "source": [
    "# 문자열 나누기\n",
    "address.split()"
   ]
  },
  {
   "cell_type": "code",
   "execution_count": 18,
   "metadata": {},
   "outputs": [],
   "source": [
    "# 문자열 나누고 변수에 저장\n",
    "addr = address.split(\" \")"
   ]
  },
  {
   "cell_type": "code",
   "execution_count": 19,
   "metadata": {},
   "outputs": [
    {
     "data": {
      "text/plain": [
       "['',\n",
       " '서울시',\n",
       " '종로구',\n",
       " '필운대로',\n",
       " '1길,',\n",
       " 'Pirundae-ro',\n",
       " '1-gil,',\n",
       " 'Jongno-gu,',\n",
       " 'Seoul,',\n",
       " 'Republic',\n",
       " 'of',\n",
       " 'Korea']"
      ]
     },
     "execution_count": 19,
     "metadata": {},
     "output_type": "execute_result"
    }
   ],
   "source": [
    "# 문자열 나누고 변수에 저장된 타입 확인\n",
    "addr"
   ]
  },
  {
   "cell_type": "code",
   "execution_count": 22,
   "metadata": {},
   "outputs": [
    {
     "data": {
      "text/plain": [
       "'서울시'"
      ]
     },
     "execution_count": 22,
     "metadata": {},
     "output_type": "execute_result"
    }
   ],
   "source": [
    "# 문자열 나누고 변수에 저장된 0번째 데이터 확인\n",
    "addr[1]"
   ]
  },
  {
   "cell_type": "code",
   "execution_count": 21,
   "metadata": {},
   "outputs": [
    {
     "data": {
      "text/plain": [
       "'필운대로'"
      ]
     },
     "execution_count": 21,
     "metadata": {},
     "output_type": "execute_result"
    }
   ],
   "source": [
    "# 리스트의 인덱싱\n",
    "addr[3]"
   ]
  },
  {
   "cell_type": "code",
   "execution_count": 23,
   "metadata": {},
   "outputs": [
    {
     "data": {
      "text/plain": [
       "['서울시', '종로구', '필운대로']"
      ]
     },
     "execution_count": 23,
     "metadata": {},
     "output_type": "execute_result"
    }
   ],
   "source": [
    "# 리스트의 슬라이싱\n",
    "addr[1:4]"
   ]
  },
  {
   "cell_type": "code",
   "execution_count": 35,
   "metadata": {},
   "outputs": [
    {
     "data": {
      "text/plain": [
       "'서울시_종로구_필운대로_1길,_Pirundae-ro_1-gil,_Jongno-gu,_Seoul,_Republic_of_Korea'"
      ]
     },
     "execution_count": 35,
     "metadata": {},
     "output_type": "execute_result"
    }
   ],
   "source": [
    "# 문자열 합하기(join)\n",
    "\"_\".join(addr)"
   ]
  },
  {
   "cell_type": "code",
   "execution_count": 24,
   "metadata": {},
   "outputs": [
    {
     "data": {
      "text/plain": [
       "'_서울시_종로구_필운대로_1길,_Pirundae-ro_1-gil,_Jongno-gu,_Seoul,_Republic_of_Korea'"
      ]
     },
     "execution_count": 24,
     "metadata": {},
     "output_type": "execute_result"
    }
   ],
   "source": [
    "# 문자열 변환하기(replace)\n",
    "address.replace(\" \",\"_\")"
   ]
  },
  {
   "cell_type": "code",
   "execution_count": 30,
   "metadata": {},
   "outputs": [
    {
     "data": {
      "text/plain": [
       "True"
      ]
     },
     "execution_count": 30,
     "metadata": {},
     "output_type": "execute_result"
    }
   ],
   "source": [
    "# 특정 문자로 시작되는지 여부 확인(startswith, 결과(True, False)\n",
    "address.lstrip().startswith(\"서울\")"
   ]
  },
  {
   "cell_type": "code",
   "execution_count": null,
   "metadata": {},
   "outputs": [],
   "source": [
    "# 문자열 포함 확인(in)\n",
    "address2"
   ]
  },
  {
   "cell_type": "code",
   "execution_count": null,
   "metadata": {},
   "outputs": [],
   "source": [
    "# 리스트에 in을 사용할 경우 문자열이 완전 일치 해야 함\n"
   ]
  }
 ],
 "metadata": {
  "kernelspec": {
   "display_name": "Python 3 (ipykernel)",
   "language": "python",
   "name": "python3"
  },
  "language_info": {
   "codemirror_mode": {
    "name": "ipython",
    "version": 3
   },
   "file_extension": ".py",
   "mimetype": "text/x-python",
   "name": "python",
   "nbconvert_exporter": "python",
   "pygments_lexer": "ipython3",
   "version": "3.9.7"
  }
 },
 "nbformat": 4,
 "nbformat_minor": 2
}
