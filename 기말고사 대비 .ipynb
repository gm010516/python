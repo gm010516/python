{
 "cells": [
  {
   "cell_type": "markdown",
   "id": "b98ee542",
   "metadata": {},
   "source": [
    "함수의 장점"
   ]
  },
  {
   "cell_type": "markdown",
   "id": "184bd06a",
   "metadata": {},
   "source": [
    "함수: 어떤 일을 수행하는 코드의 덩어리, 또는 코드의 묶음\n",
    "\n",
    "함수의 장점: \n",
    "\n",
    "    1)필요할 때마다 호출 가능\n",
    "    \n",
    "    2)논리적인 단위로 분할 가능\n",
    "    \n",
    "    3)코드의 캡슐화\n",
    "    "
   ]
  },
  {
   "cell_type": "markdown",
   "id": "e6bb4b81",
   "metadata": {},
   "source": [
    "지역변수: 함수 안에서만 사용 가능\n",
    "\n",
    "전역변수: 프로그램 전체에서 사용가능\n",
    "\n",
    "함수 내에서 전역 변수로 선언된 변수를 사용하기 위해서는 global 키워드를 사용해야 함\n"
   ]
  },
  {
   "cell_type": "markdown",
   "id": "3a151292",
   "metadata": {},
   "source": [
    "함수의 인수\n",
    "\n",
    "-키워드 인수:함수에 입력되는 매개변수의 변수명을 사용하여 함수의 인수를 지정하는 방법\n",
    "\n",
    "-디폴트 인수: 매개변수에 기본값을 지정하여 사용하고, 아무런 값도 인수로 넘기지 않으면 저장된 기본값을 사용하는 방식\n",
    "\n",
    "-가변 인수: 함수의 매개변수 개수가 정해지지 않고 진행해야 하는 경우 사용하는 함수\n",
    "          일반적인 키워드 인수가 모두 끝난 후에 삽입됨, 리스트와 비슷한 튜플 형태로 함수 안에서 사용할 수 있으므로 인덱스를 사용하여 접근 가능\n",
    "          \n",
    "          =asterisk\n",
    "          \n",
    "          "
   ]
  },
  {
   "cell_type": "markdown",
   "id": "ffdcacfb",
   "metadata": {},
   "source": [
    "-키워드 가변인수:매개변수의 이름을 따로 지정하지 않고 입력하는 방법으로 이전 가변 인수와는 달리 *를 2개 사용하여 함수의 매개변수를 표시함\n",
    "\n",
    "    입력된 값은 튜플 자료형이 아닌 딕셔너리 자료형으로 사용할 수 있음\n",
    "    키워드 가변 인수는 반드시 모든 매개변수의 맨 마지막, 즉 가변 인수 다음에 선언되어야함\n",
    "    변수명은 중요하지 않지만 반드시 **붙여야함\n",
    "    "
   ]
  },
  {
   "cell_type": "code",
   "execution_count": 16,
   "id": "4c50b2d0",
   "metadata": {},
   "outputs": [
    {
     "name": "stdout",
     "output_type": "stream",
     "text": [
      "15\n",
      "(3, 4, 5)\n",
      "None\n",
      "(3, 4, [5, 6])\n"
     ]
    }
   ],
   "source": [
    "#가변인수 처리 예시\n",
    "\n",
    "def asterisk_test_1(a,b,*args):\n",
    "    return a+b+sum(args)\n",
    "print(asterisk_test_1(1,2,3,4,5))\n",
    "\n",
    "def asterisk_test_2(a,b,*args):\n",
    "    print(args)\n",
    "print(asterisk_test_2(1,2,3,4,5))\n",
    "\n",
    "def asterisk_test_3(*args):\n",
    "    x,y,*z=args #*z->z로 변경하면 오류발생(언팩킹 개수가 맞지 않기 떄문에)\n",
    "    return x,y,z\n",
    "print(asterisk_test_3(3,4,5,6))"
   ]
  },
  {
   "cell_type": "code",
   "execution_count": 1,
   "id": "2ffc19de",
   "metadata": {},
   "outputs": [
    {
     "name": "stdout",
     "output_type": "stream",
     "text": [
      "{'first': 3, 'second': 4, 'third': 5}\n",
      "first value is 3\n",
      "first value is 4\n",
      "first value is 5\n"
     ]
    }
   ],
   "source": [
    "#키워드 가변인수\n",
    "def kwargs_test(**kwargs):\n",
    "    print(kwargs)\n",
    "    print(\"first value is {first}\".format(**kwargs))\n",
    "    print(\"first value is {second}\".format(**kwargs))\n",
    "    print(\"first value is {third}\".format(**kwargs))\n",
    "kwargs_test(first=3,second=4,third=5)"
   ]
  },
  {
   "cell_type": "markdown",
   "id": "c948f7ec",
   "metadata": {},
   "source": [
    "예외처리 가능과 불가능\n",
    "\n",
    "    가능한 사례:\n",
    "    발생 여부를 개발자가 사전에 인지할 수 있는 예외\n",
    "    개발자는 예외를 예측하여 명시적으로 예외가 발생할 떄는 대응 처리가능\n",
    "    ex)사용자 입력란에 값이 잘못들어갔다면, if문을 사용하여 사용자에게 잘못 입력하였따고 응답하는 방법이 있음\n",
    "    \n",
    "    불가능한 사례:\n",
    "    많은 파일을 처리할 떄 문제 발생 가능, 예측 불가능한 예외가 발생했을 경우\n",
    "    인터프리터가 자동으로 이것이 예외라고 사용자에게 알려줌\n",
    "    이러한 예외가 발생하면 프로그램이 종료되면서 적절한 조치가 필요함\n",
    " \n",
    "\n",
    "예외처리 구문:\n",
    "종류)IndexError:리스트의 인덱스 범위를 넘어갈 때\n",
    "\n",
    "NameError:존재하지 않는 변수를 호출할 때\n",
    "\n",
    "ZeroDivisionError:0으로 숫자를 나눌때\n",
    "\n",
    "FileNotError:존재하지 않는 파일을 호출할 때 \n",
    "\n",
    "1)try~except 구문:\n"
   ]
  },
  {
   "cell_type": "code",
   "execution_count": 5,
   "id": "2a0e3a79",
   "metadata": {},
   "outputs": [
    {
     "name": "stdout",
     "output_type": "stream",
     "text": [
      "division by zero\n",
      "Not divided by 0\n",
      "10.0\n",
      "5.0\n",
      "3.3333333333333335\n",
      "2.5\n",
      "2.0\n",
      "1.6666666666666667\n",
      "1.4285714285714286\n",
      "1.25\n",
      "1.1111111111111112\n"
     ]
    }
   ],
   "source": [
    "#예시\n",
    "for i in range(10):\n",
    "    try:\n",
    "        print(10/i)\n",
    "    except ZeroDivisionError as e:\n",
    "        print(e)\n",
    "        print(\"Not divided by 0\")"
   ]
  },
  {
   "cell_type": "markdown",
   "id": "f4fbd97e",
   "metadata": {},
   "source": [
    "2)try~ except~else:"
   ]
  },
  {
   "cell_type": "code",
   "execution_count": 7,
   "id": "23b560c1",
   "metadata": {},
   "outputs": [
    {
     "name": "stdout",
     "output_type": "stream",
     "text": [
      "Not divided by 0\n",
      "10.0\n",
      "5.0\n",
      "3.3333333333333335\n",
      "2.5\n",
      "2.0\n",
      "1.6666666666666667\n",
      "1.4285714285714286\n",
      "1.25\n",
      "1.1111111111111112\n"
     ]
    }
   ],
   "source": [
    "for i in range(10):\n",
    "    try:\n",
    "        result=10/i\n",
    "    except ZeroDivisionError:\n",
    "        print(\"Not divided by 0\")\n",
    "    else:\n",
    "        print(10/i)"
   ]
  },
  {
   "cell_type": "markdown",
   "id": "93651bc7",
   "metadata": {},
   "source": [
    "3)try~ except~finally"
   ]
  },
  {
   "cell_type": "code",
   "execution_count": 9,
   "id": "572c7c01",
   "metadata": {},
   "outputs": [
    {
     "name": "stdout",
     "output_type": "stream",
     "text": [
      "10.0\n",
      "5.0\n",
      "3.3333333333333335\n",
      "2.5\n",
      "2.0\n",
      "1.6666666666666667\n",
      "1.4285714285714286\n",
      "1.25\n",
      "1.1111111111111112\n",
      "종료되었습니다.\n"
     ]
    }
   ],
   "source": [
    "try:\n",
    "    for i in range(1,10):\n",
    "        result=10/i\n",
    "        print(result)\n",
    "except ZeroDivisionError:\n",
    "        print(\"not divided by 0\")\n",
    "finally:\n",
    "        print(\"종료되었습니다.\")"
   ]
  },
  {
   "cell_type": "markdown",
   "id": "f2fef595",
   "metadata": {},
   "source": [
    "파일 다루기\n",
    "\n",
    "파일 읽기:\n",
    "\n",
    "f=open(\"파일명\",\"파일 열기 모드\")\n",
    "        f.close()\n",
    "-파일 열기 모드:\n",
    "    \n",
    "    r:읽기모드-파일을 읽기만 할떄 사용\n",
    "    w:쓰기모드-파일에 내용을 쓸때 사용\n",
    "    a:추가모드-파일의 마지막에 새로운 내용을 추가할때 사용\n"
   ]
  },
  {
   "cell_type": "code",
   "execution_count": 33,
   "id": "789d1df0",
   "metadata": {},
   "outputs": [
    {
     "name": "stdout",
     "output_type": "stream",
     "text": [
      "1번째 줄이다.\n",
      "2번째 줄이다.\n",
      "3번째 줄이다.\n",
      "4번째 줄이다.\n",
      "5번째 줄이다.\n",
      "6번째 줄이다.\n",
      "7번째 줄이다.\n",
      "8번째 줄이다.\n",
      "9번째 줄이다.\n",
      "10번째 줄이다.\n",
      "\n",
      "1번째 줄이다.\n",
      "2번째 줄이다.\n",
      "3번째 줄이다.\n",
      "4번째 줄이다.\n",
      "5번째 줄이다.\n",
      "6번째 줄이다.\n",
      "7번째 줄이다.\n",
      "8번째 줄이다.\n",
      "9번째 줄이다.\n",
      "10번째 줄이다.\n",
      "\n"
     ]
    }
   ],
   "source": [
    "f=open(\"dream.txt\",\"r\")\n",
    "contents=f.read()\n",
    "print(contents)\n",
    "\n",
    "f.close()"
   ]
  },
  {
   "cell_type": "code",
   "execution_count": 14,
   "id": "a5e74a96",
   "metadata": {},
   "outputs": [
    {
     "name": "stdout",
     "output_type": "stream",
     "text": [
      "I have a dream a song to sing\n",
      "to help me cope with anything\n",
      "if you see the wonder of a fairy tale\n",
      "you can take the future even\n",
      "if you fail I believe in angels\n",
      "something good in everything\n",
      "\n"
     ]
    }
   ],
   "source": [
    "with open(\"dream.txt\",\"r\")as my_file:\n",
    "    contents=my_file.read()\n",
    "    print(contents)\n",
    "#f.close()가 필요없다"
   ]
  },
  {
   "cell_type": "code",
   "execution_count": 17,
   "id": "7e61c74e",
   "metadata": {},
   "outputs": [
    {
     "name": "stdout",
     "output_type": "stream",
     "text": [
      "['I have a dream a song to sing\\n', 'to help me cope with anything\\n', 'if you see the wonder of a fairy tale\\n', 'you can take the future even\\n', 'if you fail I believe in angels\\n', 'something good in everything\\n']\n"
     ]
    }
   ],
   "source": [
    "#한줄식 읽어서 리스트 형으로 반환하기\n",
    "with open(\"dream.txt\",\"r\")as my_file:\n",
    "    content_list=my_file.readlines()\n",
    "    print(content_list)"
   ]
  },
  {
   "cell_type": "code",
   "execution_count": 19,
   "id": "2f6853dc",
   "metadata": {},
   "outputs": [
    {
     "name": "stdout",
     "output_type": "stream",
     "text": [
      "0 ===I have a dream a song to sing \n",
      "1 ===to help me cope with anything \n",
      "2 ===if you see the wonder of a fairy tale \n",
      "3 ===you can take the future even \n",
      "4 ===if you fail I believe in angels \n",
      "5 ===something good in everything \n"
     ]
    }
   ],
   "source": [
    "with open(\"dream.txt\",\"r\")as my_file:\n",
    "    i=0\n",
    "    while 1:\n",
    "        line=my_file.readline()\n",
    "        if not line:\n",
    "            break\n",
    "        print(str(i)+\" ===\"+line.replace(\"\\n\",\" \"))\n",
    "        i=i+1"
   ]
  },
  {
   "cell_type": "code",
   "execution_count": 21,
   "id": "73cd9ee5",
   "metadata": {},
   "outputs": [],
   "source": [
    "#쓰기모드\n",
    "f=open(\"dream.txt\",\"w\", encoding=\"utf8\")\n",
    "for i in range(1,11):\n",
    "    data=\"%d번째 줄이다.\\n\"%i\n",
    "    f.write(data)\n",
    "f.close()"
   ]
  },
  {
   "cell_type": "code",
   "execution_count": 22,
   "id": "dd833deb",
   "metadata": {},
   "outputs": [],
   "source": [
    "#추가모드\n",
    "with open(\"file_a_mode.txt\",\"a\",encoding=\"utf8\")as f:\n",
    "    for i in range(1,11):\n",
    "        data=\"%d번쨰 줄입니다.\\n\"%i\n",
    "        f.write(data)"
   ]
  },
  {
   "cell_type": "code",
   "execution_count": 23,
   "id": "98d3a027",
   "metadata": {},
   "outputs": [],
   "source": [
    "#파일모드에서 에러나는 부분만 따로 저장하게하는 except\n",
    "with open(\"file_w_mode.txt\",\"w\",encoding=\"utf8\")as f:\n",
    "    for i in range(10):\n",
    "        try:\n",
    "            result=10/i\n",
    "        except ZeroDivisionError:\n",
    "            data=\"%d번째에서 에러입니다.\\n\"%i\n",
    "            f.write(data)\n",
    "        "
   ]
  },
  {
   "cell_type": "markdown",
   "id": "d2211af2",
   "metadata": {},
   "source": [
    "데이터 추출하기(크롤링)"
   ]
  },
  {
   "cell_type": "code",
   "execution_count": 35,
   "id": "42adc8a7",
   "metadata": {},
   "outputs": [
    {
     "name": "stdout",
     "output_type": "stream",
     "text": [
      "https://www.moviechart.co.kr/support/notice?page=1\n",
      "status code:  200\n"
     ]
    }
   ],
   "source": [
    "import requests\n",
    "from bs4 import BeautifulSoup\n",
    "url_main=\"https://www.moviechart.co.kr\"\n",
    "url_sub=\"/support/notice?page=1\"\n",
    "url=url_main+url_sub\n",
    "print(url)\n",
    "req=requests.get(url)#get방식으로 호출하여 데이터를 크롤링\n",
    "print(\"status code: \",req.status_code)#상태코드 보기"
   ]
  },
  {
   "cell_type": "code",
   "execution_count": 36,
   "id": "394f278c",
   "metadata": {},
   "outputs": [
    {
     "data": {
      "text/plain": [
       "<!DOCTYPE html>\n",
       "\n",
       "<html lang=\"ko\">\n",
       "<head>\n",
       "<meta charset=\"utf-8\"/>\n",
       "<!-- 익스 엣지 메타테그 -->\n",
       "<meta content=\"IE=edge\" http-equiv=\"X-UA-Compatible\">\n",
       "<!-- 모바일, 반응형 적용시 -->\n",
       "<meta content=\"nZ0b7UHZmj75dj8xGZeooc71Uv-X0aFVxS51C9lp9ms\" name=\"google-site-verification\"/>\n",
       "<meta content=\"e616afda98033d0098a47615c485becfd2a2d479\" name=\"naver-site-verification\"/>\n",
       "<title>무비차트</title>\n",
       "<meta content=\"영화순위, 예매율, 누적관객 정보, 영화예매, 무료영화예매권, 경품프로모션 제휴\" name=\"description\"/>\n",
       "<meta content=\"\" property=\"mpts:user_id\">\n",
       "<!-- css -->\n",
       "<link href=\"/assets/css/common.css\" rel=\"stylesheet\" type=\"text/css\"/>\n",
       "<link href=\"/assets/css/jcarousel.basic2.css\" rel=\"stylesheet\">\n",
       "<link href=\"/assets/css/jquery.ui.css\" rel=\"stylesheet\"/>\n",
       "<link href=\"/assets/css/custom.css\" rel=\"stylesheet\" type=\"text/css\"/>\n",
       "<!-- jQuery -->\n",
       "<script src=\"/assets/js/jquery-1.11.2.min.js\"></script>\n",
       "<script src=\"/assets/js/jquery.easing.1.3.js\"></script>\n",
       "<script src=\"/assets/js/jquery-ui-1.9.2.min.js\"></script>\n",
       "<script src=\"/assets/js/custom.js?ver=2\"></script>\n",
       "<!-- <script type=\"text/javascript\" src=\"//collection.swich.kr/moviechart.min.js\" charset=\"UTF-8\"></script> -->\n",
       "</link></meta></meta></head>\n",
       "<body><!-- tab 스킵네비 영역 -->\n",
       "<div class=\"skip\">\n",
       "<a href=\"#content\">본문 바로가기</a>\n",
       "<a href=\"#header\">네비게이션 바로가기</a>\n",
       "</div>\n",
       "<div id=\"header\">\n",
       "<div class=\"topBar\">\n",
       "<div class=\"wArea\">\n",
       "<dl class=\"ff\">\n",
       "<dt class=\"blind\">유틸박스</dt>\n",
       "<dd class=\"login\"><a href=\"/member/login\">로그인</a></dd>\n",
       "<dd><a href=\"/member/join\">회원가입</a></dd>\n",
       "<dd><a href=\"/coupon/regist\">예매권/할인권 등록</a></dd>\n",
       "<!--dd><a href=\"#\">멤버쉽</a></dd-->\n",
       "<!--dd class=\"last\"><a href=\"#\"><img src=\"/assets/img/common/list.png\" alt=\"리스트 버튼\"></a></dd-->\n",
       "</dl>\n",
       "</div>\n",
       "<!-- //wArea -->\n",
       "</div>\n",
       "<!-- //topBar -->\n",
       "<div class=\"gnb\">\n",
       "<div class=\"wArea\">\n",
       "<h1><a href=\"/\"><img alt=\"무비차트 로고\" src=\"/assets/img/common/logo.png\"/></a></h1>\n",
       "<ul class=\"ff\">\n",
       "<li class=\"mm01\"><a href=\"/rank/realtime/index/image\">영화순위</a></li>\n",
       "<li class=\"mm02\"><a href=\"/info/current\">영화정보</a></li>\n",
       "<li class=\"mm03\"><a href=\"/work/reserve/step1\">영화예매</a></li>\n",
       "<li class=\"mm04\"><a href=\"/support/notice\">고객센터</a></li>\n",
       "<li class=\"mm05\"><a href=\"/event/event\">이벤트</a></li>\n",
       "</ul>\n",
       "<dl class=\"search ff\">\n",
       "<dt class=\"blind\">영화검색</dt>\n",
       "<dd>\n",
       "<input name=\"search_keyword\" placeholder=\"영화검색\" type=\"text\" value=\"\"/>\n",
       "</dd>\n",
       "<dd class=\"search_icon\"><a href=\"#\"><img alt=\"검색 아이콘\" src=\"/assets/img/common/searchIcon.png\"/></a></dd>\n",
       "</dl>\n",
       "</div>\n",
       "<!-- //wArea -->\n",
       "</div>\n",
       "<!-- //gnb -->\n",
       "</div>\n",
       "<!-- //header -->\n",
       "<script type=\"text/javascript\">\n",
       "\t$(document).ready(function(){\n",
       "\t    //검색창에서 엔터 키 입력시\n",
       "\t    $(\"input[name='search_keyword']\").keypress(function(){\n",
       "\t    \tif(event.keyCode==13){\n",
       "\t\t    \t$('.search_icon>a').click();\t\n",
       "\t\t    \treturn false;\n",
       "\t    \t}\n",
       "\t    });\n",
       "\t\t$(\".search_icon>a\").click(function(){\n",
       "\t\t\t if(!$(\"input[name='search_keyword']\").val()){\n",
       "\t\t\t\talert('검색하실 영화명을 입력해주세요.');\n",
       "\t\t\t\t$(\"input[name='search_keyword']\").focus();\n",
       "\t\t\t\treturn false;\n",
       "\t\t\t }\n",
       "\n",
       "\t\t\tvar search_keyword = $(\"input[name='search_keyword']\").val();\n",
       "\t\t\tlocation.href = \"/search?search_keyword=\"+search_keyword;\n",
       "\t\t\treturn false;\n",
       "\t\t});\n",
       "\t});\n",
       "</script>\n",
       "<style type=\"text/css\">\n",
       ".page_list { border:0px #d7d7d7 solid; border-radius:5px; margin-top:30px; text-align:center; line-height:24px; }\n",
       ".page_list span img { vertical-align:middle;}\n",
       ".page_list span { padding:3px 4px;}\n",
       ".page_list span a { display: inline-block; }\n",
       ".page_list span a:hover { color:#000; font-weight:bold;} \n",
       ".page_list .img_last { padding-right:15px; padding-left:0px;}\n",
       ".page_list .img_fist { padding-left:15px; padding-right:0px;}\n",
       ".page_list .on { font-weight:bold; color:#000;}\n",
       "</style>\n",
       "<div id=\"content\">\n",
       "<div class=\"wArea space\">\n",
       "<div class=\"title\">\n",
       "<h2>고객센터</h2>\n",
       "<dl class=\"ff\">\n",
       "<dt class=\"blind\">네비게이션</dt>\n",
       "<dd><img alt=\"홈아이콘\" src=\"/assets/img/sub/homeIcon.png\"/></dd>\n",
       "<dd>  &gt;  </dd>\n",
       "<dd>고객센터</dd>\n",
       "<dd>  &gt;  </dd>\n",
       "<dd><strong>공지사항</strong></dd>\n",
       "</dl>\n",
       "</div>\n",
       "<!-- //title -->\n",
       "<div class=\"subTab\">\n",
       "<span class=\"first active\"><a href=\"/support/notice\">공지사항</a></span>\n",
       "<span class=\"\"><a href=\"/support/faq\">자주묻는질문</a></span>\n",
       "<span class=\"last\"><a href=\"/support/qna\">1:1 문의</a></span>\n",
       "</div>\n",
       "<!-- //subTab -->\n",
       "<div class=\"subTitle\">\n",
       "<h3>고객센터 1:1 문의</h3>\n",
       "<p>평일 10:00~18:00 (점심시간 12:00~13:00, 주말 및 공휴일 휴무)</p>\n",
       "</div>\n",
       "<!-- //subTitle -->\n",
       "<form action=\"\" id=\"search_frm\" method=\"get\" name=\"search_frm\">\n",
       "<input id=\"csrf_tn\" name=\"csrf_tn\" type=\"hidden\" value=\"20f5e929f2d3a543541c88906a72f6e0\"/>\n",
       "<!--paging-->\n",
       "<input id=\"total_cnt\" name=\"total_cnt\" type=\"hidden\" value=\"79\"/>\n",
       "<input id=\"page\" name=\"page\" type=\"hidden\" value=\"1\"/>\n",
       "<!--paging end-->\n",
       "<div class=\"serch_box\">\n",
       "<ul class=\"ff\">\n",
       "<li class=\"mm01\">\n",
       "<select class=\"search_select\" id=\"search_key\" name=\"search_key\">\n",
       "<option value=\"1\">제목</option>\n",
       "</select>\n",
       "</li>\n",
       "<li class=\"mm02\">\n",
       "<input class=\"search_input\" name=\"search_str\" type=\"text\" value=\"\">\n",
       "</input></li>\n",
       "<li class=\"mm03\">\n",
       "<a class=\"search_btn\" href=\"#\">검색</a>\n",
       "</li>\n",
       "</ul>\n",
       "</div>\n",
       "<!-- //serch_box -->\n",
       "<div class=\"tableType02\">\n",
       "<table>\n",
       "<thead>\n",
       "<tr>\n",
       "<th>번호</th>\n",
       "<th>제목</th>\n",
       "<th>작성일</th>\n",
       "<th>조회</th>\n",
       "</tr>\n",
       "</thead>\n",
       "<tbody>\n",
       "<tr>\n",
       "<td>79</td>\n",
       "<td class=\"title\"><a href=\"/support/notice/b_read?idx=3028\">[6월 고객센터 휴무 안내]</a></td>\n",
       "<td>2022-05-27</td>\n",
       "<td>87</td>\n",
       "</tr>\n",
       "<tr>\n",
       "<td>78</td>\n",
       "<td class=\"title\"><a href=\"/support/notice/b_read?idx=2896\">[5월 고객센터 휴무 안내]</a></td>\n",
       "<td>2022-04-29</td>\n",
       "<td>150</td>\n",
       "</tr>\n",
       "<tr>\n",
       "<td>77</td>\n",
       "<td class=\"title\"><a href=\"/support/notice/b_read?idx=2828\">[3월 고객센터 휴무 안내]</a></td>\n",
       "<td>2022-02-25</td>\n",
       "<td>157</td>\n",
       "</tr>\n",
       "<tr>\n",
       "<td>76</td>\n",
       "<td class=\"title\"><a href=\"/support/notice/b_read?idx=2743\">[설 연휴 고객센터 휴무 안내]</a></td>\n",
       "<td>2022-01-24</td>\n",
       "<td>236</td>\n",
       "</tr>\n",
       "<tr>\n",
       "<td>75</td>\n",
       "<td class=\"title\"><a href=\"/support/notice/b_read?idx=2699\">[2021-12-31 고객센터 운영시간 단축 안내]\t</a></td>\n",
       "<td>2021-12-30</td>\n",
       "<td>233</td>\n",
       "</tr>\n",
       "<tr>\n",
       "<td>74</td>\n",
       "<td class=\"title\"><a href=\"/support/notice/b_read?idx=2665\">[2021-12-17 고객센터 운영시간 단축 안내]</a></td>\n",
       "<td>2021-12-14</td>\n",
       "<td>195</td>\n",
       "</tr>\n",
       "<tr>\n",
       "<td>73</td>\n",
       "<td class=\"title\"><a href=\"/support/notice/b_read?idx=2531\">[10월 고객센터 휴무 안내]</a></td>\n",
       "<td>2021-09-29</td>\n",
       "<td>285</td>\n",
       "</tr>\n",
       "<tr>\n",
       "<td>72</td>\n",
       "<td class=\"title\"><a href=\"/support/notice/b_read?idx=2499\">[추석 연휴 고객센터 휴무 안내]</a></td>\n",
       "<td>2021-09-14</td>\n",
       "<td>287</td>\n",
       "</tr>\n",
       "<tr>\n",
       "<td>71</td>\n",
       "<td class=\"title\"><a href=\"/support/notice/b_read?idx=2424\">[광복절 대체 휴일 고객센터 휴무 안내]</a></td>\n",
       "<td>2021-08-11</td>\n",
       "<td>332</td>\n",
       "</tr>\n",
       "<tr>\n",
       "<td>70</td>\n",
       "<td class=\"title\"><a href=\"/support/notice/b_read?idx=2328\">[수도권 사회적 거리두기 4단계 격상으로 인한 이용 제한 안내]</a></td>\n",
       "<td>2021-07-09</td>\n",
       "<td>504</td>\n",
       "</tr>\n",
       "</tbody>\n",
       "</table>\n",
       "</div>\n",
       "<!-- //tableType02 -->\n",
       "<div class=\"jPaginate page_list\" id=\"pagination\"></div><!--//page_lista-->\n",
       "<!-- //btn_box -->\n",
       "</form>\n",
       "</div>\n",
       "<!-- //wArea -->\n",
       "</div>\n",
       "<!-- //contant -->\n",
       "<script src=\"/assets/js/jquery.paginate.js\" type=\"text/javascript\"></script>\n",
       "<script type=\"text/javascript\">\n",
       "\t$(document).ready(function(){\n",
       "\t\t//data 호출\n",
       "\t\tset_paging(//페이징\n",
       "\t\t\t'10'//페이지당 출력 list 갯수 Object\n",
       "\t\t\t, '#search_frm #total_cnt'//총 Count 입력될 Object\n",
       "\t\t\t, '#search_frm #page'//현재 Page Object\n",
       "\t\t\t, $('#search_frm #total_cnt').val()//총 Count\n",
       "\t\t\t, function(e, page){//page 클릭시 호출할 함수\n",
       "\t\t\t\tparams = 'page='+page;\n",
       "\t\t\t\tlocation.href='?'+params;\n",
       "\t\t\t\treturn false;\n",
       "\t\t\t}\n",
       "\t\t);\n",
       "\n",
       "\t\t//검색어에서 엔터 키 입력시\n",
       "\t\t$(\"#search_frm input[name='search_str']\").keypress(function(){\n",
       "\t\t\tif(event.keyCode==13){\n",
       "\t\t\t\t$('.search_btn').click();\n",
       "\t\t\t\treturn false;\n",
       "\t\t\t}\n",
       "\t\t});\n",
       "\n",
       "\t\t$('.search_btn').click(function(){\n",
       "\t\t\tif($(\"#search_frm input[name='search_str']\").val().length<2){\n",
       "\t\t\t\talert('검색어를 2글자 이상 입력해주세요.');\n",
       "\t\t\t\t$(\"#search_frm input[name='search_str']\").focus();\n",
       "\t\t\t\treturn false;\n",
       "\t\t\t}\n",
       "\n",
       "\t\t\tvar search_key = $(\"#search_frm select[name='search_key']\").val();\n",
       "\t\t\tvar search_str = $(\"#search_frm input[name='search_str']\").val();\n",
       "\n",
       "\t\t\tlocation.href = \"?page=1&search_key=\"+search_key+\"&search_str=\"+search_str;\n",
       "\t\t\treturn false;\n",
       "\t\t});\n",
       "\t});\n",
       "</script><div id=\"footer\">\n",
       "<div class=\"wArea\">\n",
       "<div class=\"footMenu\">\n",
       "<span><a href=\"/etc/terms\">이용약관</a></span>\n",
       "<span><a href=\"/etc/privacy\">개인정보취급방침</a></span>\n",
       "<span><a href=\"/inquire/partnership\">제휴/광고문의</a></span>\n",
       "<span><a href=\"/inquire/coupon\">예매권구매문의</a></span>\n",
       "<span><a class=\"last\" href=\"/support/notice\">고객센터</a></span>\n",
       "</div>\n",
       "<p>(03992) 서울특별시 마포구 월드컵북로4길 25, 2층 (동교동, ST빌딩) | ㈜메크로스 대표이사 이경수 | 사업자등록번호 : 211-88-5000 <br/>\n",
       "            고객센터 : 1661-9265 (10:00~18:00) <a href=\"mailto:help@moviechart.co.kr\" style=\"color:grey\">help@moviechart.co.kr</a> 통신판매업신고 [제2019-서울영등포-2112호]\n",
       "        </p>\n",
       "<p>Copyright ⓒ <strong>Movie Chart.</strong> All Rights Reserved.</p>\n",
       "</div>\n",
       "<!-- //wArea -->\n",
       "</div>\n",
       "<!-- //footer -->\n",
       "</body>\n",
       "</html>"
      ]
     },
     "execution_count": 36,
     "metadata": {},
     "output_type": "execute_result"
    }
   ],
   "source": [
    "html=req.text\n",
    "soup=BeautifulSoup(html,'html.parser')#분석결과 해석해주기\n",
    "soup"
   ]
  },
  {
   "cell_type": "markdown",
   "id": "19e63919",
   "metadata": {},
   "source": [
    "태그 분석"
   ]
  },
  {
   "cell_type": "code",
   "execution_count": 37,
   "id": "e8e510bc",
   "metadata": {},
   "outputs": [
    {
     "name": "stdout",
     "output_type": "stream",
     "text": [
      "[<tr>\n",
      "<td>79</td>\n",
      "<td class=\"title\"><a href=\"/support/notice/b_read?idx=3028\">[6월 고객센터 휴무 안내]</a></td>\n",
      "<td>2022-05-27</td>\n",
      "<td>87</td>\n",
      "</tr>, <tr>\n",
      "<td>78</td>\n",
      "<td class=\"title\"><a href=\"/support/notice/b_read?idx=2896\">[5월 고객센터 휴무 안내]</a></td>\n",
      "<td>2022-04-29</td>\n",
      "<td>150</td>\n",
      "</tr>, <tr>\n",
      "<td>77</td>\n",
      "<td class=\"title\"><a href=\"/support/notice/b_read?idx=2828\">[3월 고객센터 휴무 안내]</a></td>\n",
      "<td>2022-02-25</td>\n",
      "<td>157</td>\n",
      "</tr>, <tr>\n",
      "<td>76</td>\n",
      "<td class=\"title\"><a href=\"/support/notice/b_read?idx=2743\">[설 연휴 고객센터 휴무 안내]</a></td>\n",
      "<td>2022-01-24</td>\n",
      "<td>236</td>\n",
      "</tr>, <tr>\n",
      "<td>75</td>\n",
      "<td class=\"title\"><a href=\"/support/notice/b_read?idx=2699\">[2021-12-31 고객센터 운영시간 단축 안내]\t</a></td>\n",
      "<td>2021-12-30</td>\n",
      "<td>233</td>\n",
      "</tr>, <tr>\n",
      "<td>74</td>\n",
      "<td class=\"title\"><a href=\"/support/notice/b_read?idx=2665\">[2021-12-17 고객센터 운영시간 단축 안내]</a></td>\n",
      "<td>2021-12-14</td>\n",
      "<td>195</td>\n",
      "</tr>, <tr>\n",
      "<td>73</td>\n",
      "<td class=\"title\"><a href=\"/support/notice/b_read?idx=2531\">[10월 고객센터 휴무 안내]</a></td>\n",
      "<td>2021-09-29</td>\n",
      "<td>285</td>\n",
      "</tr>, <tr>\n",
      "<td>72</td>\n",
      "<td class=\"title\"><a href=\"/support/notice/b_read?idx=2499\">[추석 연휴 고객센터 휴무 안내]</a></td>\n",
      "<td>2021-09-14</td>\n",
      "<td>287</td>\n",
      "</tr>, <tr>\n",
      "<td>71</td>\n",
      "<td class=\"title\"><a href=\"/support/notice/b_read?idx=2424\">[광복절 대체 휴일 고객센터 휴무 안내]</a></td>\n",
      "<td>2021-08-11</td>\n",
      "<td>332</td>\n",
      "</tr>, <tr>\n",
      "<td>70</td>\n",
      "<td class=\"title\"><a href=\"/support/notice/b_read?idx=2328\">[수도권 사회적 거리두기 4단계 격상으로 인한 이용 제한 안내]</a></td>\n",
      "<td>2021-07-09</td>\n",
      "<td>504</td>\n",
      "</tr>]\n",
      "[6월 고객센터 휴무 안내]\n",
      "/support/notice/b_read?idx=3028\n",
      "/support/notice/b_read?idx=3028\n",
      "====================================================================================================\n",
      "[5월 고객센터 휴무 안내]\n",
      "/support/notice/b_read?idx=2896\n",
      "/support/notice/b_read?idx=2896\n",
      "====================================================================================================\n",
      "[3월 고객센터 휴무 안내]\n",
      "/support/notice/b_read?idx=2828\n",
      "/support/notice/b_read?idx=2828\n",
      "====================================================================================================\n",
      "[설 연휴 고객센터 휴무 안내]\n",
      "/support/notice/b_read?idx=2743\n",
      "/support/notice/b_read?idx=2743\n",
      "====================================================================================================\n",
      "[2021-12-31 고객센터 운영시간 단축 안내]\n",
      "/support/notice/b_read?idx=2699\n",
      "/support/notice/b_read?idx=2699\n",
      "====================================================================================================\n",
      "[2021-12-17 고객센터 운영시간 단축 안내]\n",
      "/support/notice/b_read?idx=2665\n",
      "/support/notice/b_read?idx=2665\n",
      "====================================================================================================\n",
      "[10월 고객센터 휴무 안내]\n",
      "/support/notice/b_read?idx=2531\n",
      "/support/notice/b_read?idx=2531\n",
      "====================================================================================================\n",
      "[추석 연휴 고객센터 휴무 안내]\n",
      "/support/notice/b_read?idx=2499\n",
      "/support/notice/b_read?idx=2499\n",
      "====================================================================================================\n",
      "[광복절 대체 휴일 고객센터 휴무 안내]\n",
      "/support/notice/b_read?idx=2424\n",
      "/support/notice/b_read?idx=2424\n",
      "====================================================================================================\n",
      "[수도권 사회적 거리두기 4단계 격상으로 인한 이용 제한 안내]\n",
      "/support/notice/b_read?idx=2328\n",
      "/support/notice/b_read?idx=2328\n",
      "====================================================================================================\n"
     ]
    }
   ],
   "source": [
    "if req.status_code==200:#정상연결이라면\n",
    "    html=req.content\n",
    "    soup=BeautifulSoup(req.content)\n",
    "    tdlist=soup.select(\"div.tableType02>table>tbody>tr\")\n",
    "    print(tdlist)\n",
    "    for x in tdlxist:\n",
    "        mtitle=x.select_one(\"td>a\").text.strip()\n",
    "        mhref=x.select_one(\"td>a\").get(\"href\")\n",
    "        mhrefl=x.select_one(\"td>a\").attrs[\"href\"]\n",
    "        print(mtitle,mhref,mhrefl,sep=\"\\n\")\n",
    "        print(\"=\"*100)\n",
    "else:\n",
    "    print(\"네이버영화 감상 사이트에서 정상적을 호출되지 않았습니다\")"
   ]
  },
  {
   "cell_type": "markdown",
   "id": "41f5d165",
   "metadata": {},
   "source": [
    "네이버 평점리뷰 분석하고 추출하기"
   ]
  },
  {
   "cell_type": "code",
   "execution_count": 40,
   "id": "e66e4a15",
   "metadata": {},
   "outputs": [
    {
     "name": "stdout",
     "output_type": "stream",
     "text": [
      "10\n"
     ]
    }
   ],
   "source": [
    "import requests\n",
    "from bs4 import BeautifulSoup\n",
    "import time\n",
    "import random\n",
    "\n",
    "url_main = \"https://movie.naver.com/\"\n",
    "url_sub = \"/movie/point/af/list.naver?&page=1\" # {}이 부분은 반복문에서 페이지를 호출할 때 페이지 번호 대입\n",
    "url = url_main+url_sub\n",
    "req=requests.get(url)\n",
    "if req.status_code==200:\n",
    "    html=req.content\n",
    "    soup=BeautifulSoup(req.content)\n",
    "    tdlist=soup.select(\"table.list_netizen > tbody > tr\")\n",
    "    print(len(tdlist))\n",
    "    for x in tdlist:\n",
    "        mtitle=x.select_one(\"a.movie\").text.strip()\n",
    "        mlink=x.select_one(\"a.movie\").get(\"href\")\n",
    "        #mscore=x.select_one(\"table.list_netizen >em\").strip()\n",
    "        mcoment=x.select_one(\"br\").next_sibling.strip()\n",
    "else:\n",
    "    print(\"네이버 영화 감상 사이트에서 정상적으로 호출되지 않았습니다\")"
   ]
  }
 ],
 "metadata": {
  "kernelspec": {
   "display_name": "Python 3 (ipykernel)",
   "language": "python",
   "name": "python3"
  },
  "language_info": {
   "codemirror_mode": {
    "name": "ipython",
    "version": 3
   },
   "file_extension": ".py",
   "mimetype": "text/x-python",
   "name": "python",
   "nbconvert_exporter": "python",
   "pygments_lexer": "ipython3",
   "version": "3.9.7"
  }
 },
 "nbformat": 4,
 "nbformat_minor": 5
}
